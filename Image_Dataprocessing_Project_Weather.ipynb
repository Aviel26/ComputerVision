{
  "nbformat": 4,
  "nbformat_minor": 0,
  "metadata": {
    "colab": {
      "name": "Image Dataprocessing Project_Weather.ipynb",
      "provenance": [],
      "collapsed_sections": [],
      "include_colab_link": true
    },
    "kernelspec": {
      "display_name": "Python 3",
      "name": "python3"
    },
    "language_info": {
      "name": "python"
    },
    "accelerator": "GPU"
  },
  "cells": [
    {
      "cell_type": "markdown",
      "metadata": {
        "id": "view-in-github",
        "colab_type": "text"
      },
      "source": [
        "<a href=\"https://colab.research.google.com/github/Aviel26/ComputerVision/blob/main/Image_Dataprocessing_Project_Weather.ipynb\" target=\"_parent\"><img src=\"https://colab.research.google.com/assets/colab-badge.svg\" alt=\"Open In Colab\"/></a>"
      ]
    },
    {
      "cell_type": "markdown",
      "source": [
        "<font size=\"6\"> Is it possible to identify the weather forecast on a photo ?<font size=\"6\">"
      ],
      "metadata": {
        "id": "6V0CzJLE9bVh"
      }
    },
    {
      "cell_type": "code",
      "metadata": {
        "colab": {
          "base_uri": "https://localhost:8080/"
        },
        "id": "uMjtIQQ11cR_",
        "outputId": "ca27377a-0bcc-45f8-952c-7c44a0a92c49"
      },
      "source": [
        "from google.colab import drive\n",
        "drive.mount('/content/gdrive')"
      ],
      "execution_count": 1,
      "outputs": [
        {
          "output_type": "stream",
          "name": "stdout",
          "text": [
            "Mounted at /content/gdrive\n"
          ]
        }
      ]
    },
    {
      "cell_type": "code",
      "metadata": {
        "id": "3nLykix44g4I"
      },
      "source": [
        "import keras\n",
        "import numpy as np\n",
        "import matplotlib.pyplot as plt\n",
        "import pickle\n",
        "import tensorflow as tf\n",
        "from sklearn.model_selection import train_test_split\n",
        "import numpy as np \n",
        "import matplotlib.pyplot as plt\n",
        "import cv2\n",
        "import random\n",
        "import pickle\n",
        "from google.colab import drive\n",
        "import glob\n",
        "import re\n",
        "import os\n",
        "import glob\n",
        "from tqdm import tqdm\n",
        "import tensorflow as tf\n",
        "import matplotlib.pyplot as plt\n",
        "from keras.layers import Dense, Dropout, Activation, Flatten, Conv2D, BatchNormalization, MaxPooling2D\n",
        "from tensorflow.keras.layers import Input, Conv2D, Dense, Flatten, Dropout, GlobalMaxPooling2D, MaxPooling2D, BatchNormalization\n",
        "from tensorflow.keras.models import Model,Sequential\n"
      ],
      "execution_count": 2,
      "outputs": []
    },
    {
      "cell_type": "code",
      "metadata": {
        "id": "2p2fueWO2tOt"
      },
      "source": [
        "my_images = glob.glob(\"/content/gdrive/MyDrive/weatherData/*.jpg\")"
      ],
      "execution_count": null,
      "outputs": []
    },
    {
      "cell_type": "code",
      "metadata": {
        "id": "D1VQLznR4CrO"
      },
      "source": [
        "import os, shutil\n",
        "original_dataset_dir = '/content/gdrive/MyDrive/weatherData'\n",
        "base_dir = '/content/gdrive/MyDrive/weather_Project_Image'\n",
        "os.mkdir(base_dir)"
      ],
      "execution_count": null,
      "outputs": []
    },
    {
      "cell_type": "markdown",
      "source": [
        "**<font size=\"5\">Build four files for each categorie**"
      ],
      "metadata": {
        "id": "Iq2I5dDf_9lO"
      }
    },
    {
      "cell_type": "code",
      "metadata": {
        "colab": {
          "base_uri": "https://localhost:8080/"
        },
        "id": "DwjqXGSw2Azl",
        "outputId": "0a57f051-1e1e-4562-b91a-95d4e7cd287c"
      },
      "source": [
        "\n",
        "cloudy_dir = os.path.join(base_dir, 'cloudy')\n",
        "os.mkdir(cloudy_dir)\n",
        "rain_dir = os.path.join(base_dir, 'rain')\n",
        "os.mkdir(rain_dir)\n",
        "shine_dir = os.path.join(base_dir, 'shine')\n",
        "os.mkdir(shine_dir)\n",
        "sunrise_dir = os.path.join(base_dir, 'sunrise')\n",
        "os.mkdir(sunrise_dir)"
      ],
      "execution_count": null,
      "outputs": [
        {
          "output_type": "stream",
          "text": [
            "/content/gdrive/MyDrive/weather_Project_Image/cloudy\n"
          ],
          "name": "stdout"
        }
      ]
    },
    {
      "cell_type": "code",
      "metadata": {
        "id": "tsSetLUg4QVZ"
      },
      "source": [
        "my_images = glob.glob(\"/content/gdrive/MyDrive/weatherData/*.jpg\")\n",
        "Cloudy = []\n",
        "Rain = []\n",
        "Shine = []\n",
        "Sunrise = []\n",
        "for image in my_images :\n",
        "  # with regex expressiom we put each image in list and after in his true category\n",
        "  a = re.search(\"cloudy[0-9]+(.+)\", image)   \n",
        "  b = re.search(\"rain[0-9]+(.+)\", image)\n",
        "  c = re.search(\"shine[0-9]+(.+)\", image)\n",
        "  d = re.search(\"sunrise[0-9]+(.+)\", image)\n",
        "  if a : \n",
        "    Cloudy.append(a.group(0))\n",
        "  if b :\n",
        "    Rain.append(b.group(0))\n",
        "  if c :\n",
        "    Shine.append(c.group(0))\n",
        "  if d :\n",
        "    Sunrise.append(d.group(0))\n",
        "\n"
      ],
      "execution_count": null,
      "outputs": []
    },
    {
      "cell_type": "code",
      "metadata": {
        "id": "pTY8p3YM5piV"
      },
      "source": [
        "# copy of each image in his category\n",
        "for fname in Cloudy:\n",
        "  src = os.path.join(original_dataset_dir, fname)\n",
        "  dst = os.path.join(cloudy_dir, fname)\n",
        "  shutil.copyfile(src, dst)\n",
        "\n",
        "\n",
        "for fname in Rain:\n",
        "  src = os.path.join(original_dataset_dir, fname)\n",
        "  dst = os.path.join(rain_dir, fname)\n",
        "  shutil.copyfile(src, dst)\n",
        "\n",
        "for fname in Shine:\n",
        "  src = os.path.join(original_dataset_dir, fname)\n",
        "  dst = os.path.join(shine_dir, fname)\n",
        "  shutil.copyfile(src, dst)\n",
        "\n",
        "for fname in Sunrise:\n",
        "  src = os.path.join(original_dataset_dir, fname)\n",
        "  dst = os.path.join(sunrise_dir, fname)\n",
        "  shutil.copyfile(src, dst)"
      ],
      "execution_count": null,
      "outputs": []
    },
    {
      "cell_type": "code",
      "metadata": {
        "id": "Ihi6Tn3aKzhb"
      },
      "source": [
        "CATEGORIES = ['cloudy', 'rain', 'shine', 'sunrise']\n",
        "DATADIR = '/content/gdrive/MyDrive/CNN_Project_weather/weather_Project_Image_final'\n",
        "IMG_SIZE = 160 # give dimension to the image"
      ],
      "execution_count": 3,
      "outputs": []
    },
    {
      "cell_type": "code",
      "metadata": {
        "id": "4amt0bjULymD"
      },
      "source": [
        "training_data = []\n",
        "def create_dataset():\n",
        "    \n",
        "    for category in CATEGORIES:  \n",
        "\n",
        "        path = os.path.join(DATADIR,category)  # directory for the image\n",
        "        class_num = CATEGORIES.index(category)  # 0 = Cloudy ; 1 = Rainy ; 2 = Shine ; 3 = Sunrise\n",
        "        \n",
        "\n",
        "        for img in tqdm(os.listdir(path)):  # for all the image\n",
        "            try:\n",
        "                img_array = cv2.imread(os.path.join(path,img))  # Convert images in array\n",
        "                new_array = cv2.resize(img_array, (IMG_SIZE, IMG_SIZE))  # resize image to the same size\n",
        "                training_data.append([new_array, class_num])  # add image to train_data\n",
        "            except Exception as e: \n",
        "                pass"
      ],
      "execution_count": 4,
      "outputs": []
    },
    {
      "cell_type": "code",
      "metadata": {
        "colab": {
          "base_uri": "https://localhost:8080/"
        },
        "id": "HQSNyMYfPN9A",
        "outputId": "6f9f92ba-0d47-422b-9de9-9aaa2675d3dd"
      },
      "source": [
        "create_dataset()"
      ],
      "execution_count": 5,
      "outputs": [
        {
          "output_type": "stream",
          "name": "stderr",
          "text": [
            "100%|██████████| 300/300 [00:04<00:00, 61.73it/s] \n",
            "100%|██████████| 213/213 [00:04<00:00, 43.11it/s]\n",
            "100%|██████████| 253/253 [00:04<00:00, 61.79it/s] \n",
            "100%|██████████| 356/356 [00:08<00:00, 42.03it/s]\n"
          ]
        }
      ]
    },
    {
      "cell_type": "code",
      "metadata": {
        "id": "k6ZI-_lKN9BV"
      },
      "source": [
        "# We blend the images\n",
        "random.shuffle(training_data)\n",
        "\n",
        "X = []\n",
        "y = []\n",
        "# We put features in X and label in y\n",
        "for features,label in training_data:\n",
        "    X.append(features)\n",
        "    y.append(label)\n"
      ],
      "execution_count": 6,
      "outputs": []
    },
    {
      "cell_type": "code",
      "metadata": {
        "id": "hlBknkq_Ofea"
      },
      "source": [
        "X = np.array(X).reshape(-1, IMG_SIZE, IMG_SIZE, 3)\n"
      ],
      "execution_count": 7,
      "outputs": []
    },
    {
      "cell_type": "code",
      "metadata": {
        "colab": {
          "base_uri": "https://localhost:8080/"
        },
        "id": "q236z1ZzlLjk",
        "outputId": "57ace8a7-e9fb-4334-a497-cad60e0f3a96"
      },
      "source": [
        "X.shape"
      ],
      "execution_count": 8,
      "outputs": [
        {
          "output_type": "execute_result",
          "data": {
            "text/plain": [
              "(1120, 160, 160, 3)"
            ]
          },
          "metadata": {},
          "execution_count": 8
        }
      ]
    },
    {
      "cell_type": "code",
      "metadata": {
        "id": "RshSS4WcOkwe"
      },
      "source": [
        "# serialization\n",
        "pickle_out = open(\"features.pickle\",\"wb\")\n",
        "pickle.dump(X, pickle_out)\n",
        "pickle_out.close()\n",
        "\n",
        "pickle_out = open(\"labels.pickle\",\"wb\")\n",
        "pickle.dump(y, pickle_out)\n",
        "pickle_out.close()\n",
        "##\n"
      ],
      "execution_count": 9,
      "outputs": []
    },
    {
      "cell_type": "code",
      "metadata": {
        "colab": {
          "base_uri": "https://localhost:8080/"
        },
        "id": "gJIHuCQxOpJS",
        "outputId": "039e02a3-238f-476b-9563-107a827f4a42"
      },
      "source": [
        "pickle_in = open(\"features.pickle\",\"rb\")\n",
        "features = pickle.load(pickle_in)\n",
        "features.shape"
      ],
      "execution_count": 10,
      "outputs": [
        {
          "output_type": "execute_result",
          "data": {
            "text/plain": [
              "(1120, 160, 160, 3)"
            ]
          },
          "metadata": {},
          "execution_count": 10
        }
      ]
    },
    {
      "cell_type": "code",
      "source": [
        "pickle_in = open(\"labels.pickle\",\"rb\")\n",
        "labels = pickle.load(pickle_in)\n",
        "labels= np.array(labels)\n",
        "labels.shape"
      ],
      "metadata": {
        "colab": {
          "base_uri": "https://localhost:8080/"
        },
        "id": "FylCjgfXN7t5",
        "outputId": "268b49ac-fcd4-4600-9d08-79607b348a4d"
      },
      "execution_count": 11,
      "outputs": [
        {
          "output_type": "execute_result",
          "data": {
            "text/plain": [
              "(1120,)"
            ]
          },
          "metadata": {},
          "execution_count": 11
        }
      ]
    },
    {
      "cell_type": "code",
      "metadata": {
        "id": "Kuki9JkCQDjj"
      },
      "source": [
        "import matplotlib.pyplot as plt"
      ],
      "execution_count": 12,
      "outputs": []
    },
    {
      "cell_type": "code",
      "metadata": {
        "colab": {
          "base_uri": "https://localhost:8080/",
          "height": 298
        },
        "id": "2PPHZMweQIkG",
        "outputId": "a242144d-5714-4034-c048-2e940e64497d"
      },
      "source": [
        "plt.figure()\n",
        "plt.imshow(features[400])\n",
        "plt.title(CATEGORIES[labels[400]])"
      ],
      "execution_count": 13,
      "outputs": [
        {
          "output_type": "execute_result",
          "data": {
            "text/plain": [
              "Text(0.5, 1.0, 'sunrise')"
            ]
          },
          "metadata": {},
          "execution_count": 13
        },
        {
          "output_type": "display_data",
          "data": {
            "image/png": "[encoded data removed]",
            "text/plain": [
              "<Figure size 432x288 with 1 Axes>"
            ]
          },
          "metadata": {
            "needs_background": "light"
          }
        }
      ]
    },
    {
      "cell_type": "code",
      "metadata": {
        "id": "EXDqp80_QN9X"
      },
      "source": [
        "from sklearn.model_selection import train_test_split\n",
        "# I prefered separate the data with sklearn split because it is more simple that to separate with commanf on files in drive\n",
        "# I choise 0.3 on the test because I want important auantity of data on the train to train my model good\n",
        "X_train, X_test, y_train, y_test = train_test_split(features, labels, test_size=0.2, random_state=42)\n",
        "X_train = X_train.astype(\"float32\") / 255.0\n",
        "X_test = X_test.astype(\"float32\") / 255.0\n",
        "\n"
      ],
      "execution_count": 14,
      "outputs": []
    },
    {
      "cell_type": "code",
      "source": [
        "print('X_train : ', X_train.shape,'\\n',\n",
        "      'y_train : ', y_train.shape,'\\n',\n",
        "      'X_test : ', X_test.shape,'\\n',      \n",
        "      'y_test : ', y_test.shape,'\\n')"
      ],
      "metadata": {
        "colab": {
          "base_uri": "https://localhost:8080/"
        },
        "id": "esdcDBTWJEAX",
        "outputId": "81055f5e-8b3f-407e-9d94-028471871fc7"
      },
      "execution_count": 15,
      "outputs": [
        {
          "output_type": "stream",
          "name": "stdout",
          "text": [
            "X_train :  (896, 160, 160, 3) \n",
            " y_train :  (896,) \n",
            " X_test :  (224, 160, 160, 3) \n",
            " y_test :  (224,) \n",
            "\n"
          ]
        }
      ]
    },
    {
      "cell_type": "markdown",
      "source": [
        "<h1> Our own model"
      ],
      "metadata": {
        "id": "ZM1iht-Rf6Bc"
      }
    },
    {
      "cell_type": "code",
      "metadata": {
        "id": "ZnFaywXFR9Ta"
      },
      "source": [
        "model = Sequential()\n",
        "\n",
        "model.add(Conv2D(filters=32, kernel_size=3, padding='same', activation='relu', input_shape=(160,160,3)))\n",
        "model.add(BatchNormalization())\n",
        "model.add(Conv2D(32, (3, 3), activation='relu', padding='same'))\n",
        "model.add(BatchNormalization())\n",
        "model.add(MaxPooling2D((2, 2)))\n",
        "\n",
        "model.add(Conv2D(64, (3, 3), activation='relu', padding='same'))\n",
        "model.add(BatchNormalization())\n",
        "model.add(Conv2D(64, (3, 3), activation='relu', padding='same'))\n",
        "model.add(BatchNormalization())\n",
        "model.add(MaxPooling2D((2, 2)))\n",
        "\n",
        "model.add(Conv2D(128, (3, 3), activation='relu', padding='same'))\n",
        "model.add(BatchNormalization())\n",
        "model.add(Conv2D(128, (3, 3), activation='relu', padding='same'))\n",
        "model.add(BatchNormalization())\n",
        "model.add(MaxPooling2D((2, 2)))\n",
        "\n",
        "model.add(Flatten())\n",
        "\n",
        "model.add(Dense(1024, activation='relu'))\n",
        "model.add(Dropout(0.5))\n",
        "model.add( Dense(4, activation='softmax')) #  layer of 4 neurones because 4 categories"
      ],
      "execution_count": 16,
      "outputs": []
    },
    {
      "cell_type": "code",
      "metadata": {
        "id": "Z33YtDIoSaDB"
      },
      "source": [
        "model.compile(optimizer='adam',\n",
        "              loss='sparse_categorical_crossentropy',\n",
        "              metrics=['accuracy'])"
      ],
      "execution_count": 17,
      "outputs": []
    },
    {
      "cell_type": "code",
      "source": [
        "model.summary()"
      ],
      "metadata": {
        "colab": {
          "base_uri": "https://localhost:8080/"
        },
        "id": "NzfHJyE3Wm_W",
        "outputId": "d110b6ac-31be-4027-9700-ab8113382f7f"
      },
      "execution_count": 18,
      "outputs": [
        {
          "output_type": "stream",
          "name": "stdout",
          "text": [
            "Model: \"sequential\"\n",
            "_________________________________________________________________\n",
            " Layer (type)                Output Shape              Param #   \n",
            "=================================================================\n",
            " conv2d (Conv2D)             (None, 160, 160, 32)      896       \n",
            "                                                                 \n",
            " batch_normalization (BatchN  (None, 160, 160, 32)     128       \n",
            " ormalization)                                                   \n",
            "                                                                 \n",
            " conv2d_1 (Conv2D)           (None, 160, 160, 32)      9248      \n",
            "                                                                 \n",
            " batch_normalization_1 (Batc  (None, 160, 160, 32)     128       \n",
            " hNormalization)                                                 \n",
            "                                                                 \n",
            " max_pooling2d (MaxPooling2D  (None, 80, 80, 32)       0         \n",
            " )                                                               \n",
            "                                                                 \n",
            " conv2d_2 (Conv2D)           (None, 80, 80, 64)        18496     \n",
            "                                                                 \n",
            " batch_normalization_2 (Batc  (None, 80, 80, 64)       256       \n",
            " hNormalization)                                                 \n",
            "                                                                 \n",
            " conv2d_3 (Conv2D)           (None, 80, 80, 64)        36928     \n",
            "                                                                 \n",
            " batch_normalization_3 (Batc  (None, 80, 80, 64)       256       \n",
            " hNormalization)                                                 \n",
            "                                                                 \n",
            " max_pooling2d_1 (MaxPooling  (None, 40, 40, 64)       0         \n",
            " 2D)                                                             \n",
            "                                                                 \n",
            " conv2d_4 (Conv2D)           (None, 40, 40, 128)       73856     \n",
            "                                                                 \n",
            " batch_normalization_4 (Batc  (None, 40, 40, 128)      512       \n",
            " hNormalization)                                                 \n",
            "                                                                 \n",
            " conv2d_5 (Conv2D)           (None, 40, 40, 128)       147584    \n",
            "                                                                 \n",
            " batch_normalization_5 (Batc  (None, 40, 40, 128)      512       \n",
            " hNormalization)                                                 \n",
            "                                                                 \n",
            " max_pooling2d_2 (MaxPooling  (None, 20, 20, 128)      0         \n",
            " 2D)                                                             \n",
            "                                                                 \n",
            " flatten (Flatten)           (None, 51200)             0         \n",
            "                                                                 \n",
            " dense (Dense)               (None, 1024)              52429824  \n",
            "                                                                 \n",
            " dropout (Dropout)           (None, 1024)              0         \n",
            "                                                                 \n",
            " dense_1 (Dense)             (None, 4)                 4100      \n",
            "                                                                 \n",
            "=================================================================\n",
            "Total params: 52,722,724\n",
            "Trainable params: 52,721,828\n",
            "Non-trainable params: 896\n",
            "_________________________________________________________________\n"
          ]
        }
      ]
    },
    {
      "cell_type": "code",
      "metadata": {
        "colab": {
          "base_uri": "https://localhost:8080/"
        },
        "id": "K568LxZ0UdPj",
        "outputId": "fc3df709-cc16-4926-fd24-4c10b3b7ee8e"
      },
      "source": [
        "history = model.fit(X_train, y_train, epochs=20, \n",
        "                    validation_data=(X_test, y_test))"
      ],
      "execution_count": 19,
      "outputs": [
        {
          "output_type": "stream",
          "name": "stdout",
          "text": [
            "Epoch 1/20\n",
            "28/28 [==============================] - 19s 216ms/step - loss: 14.6093 - accuracy: 0.7467 - val_loss: 14.1387 - val_accuracy: 0.2991\n",
            "Epoch 2/20\n",
            "28/28 [==============================] - 5s 187ms/step - loss: 7.3331 - accuracy: 0.8337 - val_loss: 2.5063 - val_accuracy: 0.6384\n",
            "Epoch 3/20\n",
            "28/28 [==============================] - 5s 186ms/step - loss: 6.6976 - accuracy: 0.8594 - val_loss: 30.2885 - val_accuracy: 0.3527\n",
            "Epoch 4/20\n",
            "28/28 [==============================] - 5s 197ms/step - loss: 5.4572 - accuracy: 0.8984 - val_loss: 39.5486 - val_accuracy: 0.2277\n",
            "Epoch 5/20\n",
            "28/28 [==============================] - 6s 198ms/step - loss: 2.7738 - accuracy: 0.9074 - val_loss: 38.2679 - val_accuracy: 0.2991\n",
            "Epoch 6/20\n",
            "28/28 [==============================] - 5s 187ms/step - loss: 2.8971 - accuracy: 0.9219 - val_loss: 61.2868 - val_accuracy: 0.2812\n",
            "Epoch 7/20\n",
            "28/28 [==============================] - 5s 187ms/step - loss: 3.0095 - accuracy: 0.9118 - val_loss: 22.0022 - val_accuracy: 0.3393\n",
            "Epoch 8/20\n",
            "28/28 [==============================] - 5s 187ms/step - loss: 4.8885 - accuracy: 0.9196 - val_loss: 36.6901 - val_accuracy: 0.3170\n",
            "Epoch 9/20\n",
            "28/28 [==============================] - 5s 187ms/step - loss: 3.3188 - accuracy: 0.8850 - val_loss: 14.9368 - val_accuracy: 0.5982\n",
            "Epoch 10/20\n",
            "28/28 [==============================] - 5s 186ms/step - loss: 3.5976 - accuracy: 0.9096 - val_loss: 20.6435 - val_accuracy: 0.6250\n",
            "Epoch 11/20\n",
            "28/28 [==============================] - 6s 200ms/step - loss: 2.4206 - accuracy: 0.9163 - val_loss: 8.7271 - val_accuracy: 0.6562\n",
            "Epoch 12/20\n",
            "28/28 [==============================] - 5s 187ms/step - loss: 1.8649 - accuracy: 0.9230 - val_loss: 7.1748 - val_accuracy: 0.8080\n",
            "Epoch 13/20\n",
            "28/28 [==============================] - 5s 187ms/step - loss: 1.0142 - accuracy: 0.9531 - val_loss: 4.6985 - val_accuracy: 0.8438\n",
            "Epoch 14/20\n",
            "28/28 [==============================] - 5s 187ms/step - loss: 0.8888 - accuracy: 0.9576 - val_loss: 5.1252 - val_accuracy: 0.8214\n",
            "Epoch 15/20\n",
            "28/28 [==============================] - 5s 187ms/step - loss: 0.7284 - accuracy: 0.9598 - val_loss: 2.4148 - val_accuracy: 0.8795\n",
            "Epoch 16/20\n",
            "28/28 [==============================] - 5s 186ms/step - loss: 0.5921 - accuracy: 0.9699 - val_loss: 3.9501 - val_accuracy: 0.8304\n",
            "Epoch 17/20\n",
            "28/28 [==============================] - 5s 186ms/step - loss: 0.5861 - accuracy: 0.9676 - val_loss: 4.0520 - val_accuracy: 0.8259\n",
            "Epoch 18/20\n",
            "28/28 [==============================] - 5s 186ms/step - loss: 0.4329 - accuracy: 0.9710 - val_loss: 3.8106 - val_accuracy: 0.8527\n",
            "Epoch 19/20\n",
            "28/28 [==============================] - 5s 186ms/step - loss: 1.9280 - accuracy: 0.9699 - val_loss: 4.4365 - val_accuracy: 0.8661\n",
            "Epoch 20/20\n",
            "28/28 [==============================] - 5s 186ms/step - loss: 2.1375 - accuracy: 0.9609 - val_loss: 6.0728 - val_accuracy: 0.8795\n"
          ]
        }
      ]
    },
    {
      "cell_type": "code",
      "metadata": {
        "colab": {
          "base_uri": "https://localhost:8080/",
          "height": 300
        },
        "id": "qOb402oge6mg",
        "outputId": "57c3bf22-91a9-4985-a37a-d3fd7aa8d73a"
      },
      "source": [
        "plt.plot(history.history['accuracy'], label='accuracy')\n",
        "plt.plot(history.history['val_accuracy'], label = 'val_accuracy')\n",
        "plt.xlabel('Epoch')\n",
        "plt.ylabel('Accuracy')\n",
        "plt.ylim([0.5, 1])\n",
        "plt.legend(loc='lower right')\n",
        "\n",
        "test_loss, test_acc = model.evaluate(X_test,  y_test, verbose=2)"
      ],
      "execution_count": 21,
      "outputs": [
        {
          "output_type": "stream",
          "name": "stdout",
          "text": [
            "7/7 - 1s - loss: 6.0728 - accuracy: 0.8795 - 589ms/epoch - 84ms/step\n"
          ]
        },
        {
          "output_type": "display_data",
          "data": {
            "image/png": "[encoded data removed]",
            "text/plain": [
              "<Figure size 432x288 with 1 Axes>"
            ]
          },
          "metadata": {
            "needs_background": "light"
          }
        }
      ]
    },
    {
      "cell_type": "markdown",
      "metadata": {
        "id": "vm2GzmKskyoB"
      },
      "source": [
        "\n",
        "> val_accuracy: 0.8795 <b>\n",
        "\n",
        "\n",
        "```\n",
        "The progression is not very stable\n",
        "```\n",
        "\n",
        "\n",
        "\n"
      ]
    },
    {
      "cell_type": "markdown",
      "source": [
        "<h1>Transfer Learning"
      ],
      "metadata": {
        "id": "z8XogmPuIjwH"
      }
    },
    {
      "cell_type": "code",
      "source": [
        "base_model = tf.keras.applications.MobileNetV2(input_shape=(160,160,3),\n",
        "                                               include_top=False,\n",
        "                                               weights='imagenet')"
      ],
      "metadata": {
        "id": "AEuBdwjFeEZx"
      },
      "execution_count": 79,
      "outputs": []
    },
    {
      "cell_type": "code",
      "source": [
        "base_model.summary()"
      ],
      "metadata": {
        "colab": {
          "base_uri": "https://localhost:8080/"
        },
        "id": "iATnGrn5eEdx",
        "outputId": "69b67a5b-33b7-408c-f431-0181f49e264c"
      },
      "execution_count": 80,
      "outputs": [
        {
          "output_type": "stream",
          "name": "stdout",
          "text": [
            "Model: \"mobilenetv2_1.00_160\"\n",
            "__________________________________________________________________________________________________\n",
            " Layer (type)                   Output Shape         Param #     Connected to                     \n",
            "==================================================================================================\n",
            " input_2 (InputLayer)           [(None, 160, 160, 3  0           []                               \n",
            "                                )]                                                                \n",
            "                                                                                                  \n",
            " Conv1 (Conv2D)                 (None, 80, 80, 32)   864         ['input_2[0][0]']                \n",
            "                                                                                                  \n",
            " bn_Conv1 (BatchNormalization)  (None, 80, 80, 32)   128         ['Conv1[0][0]']                  \n",
            "                                                                                                  \n",
            " Conv1_relu (ReLU)              (None, 80, 80, 32)   0           ['bn_Conv1[0][0]']               \n",
            "                                                                                                  \n",
            " expanded_conv_depthwise (Depth  (None, 80, 80, 32)  288         ['Conv1_relu[0][0]']             \n",
            " wiseConv2D)                                                                                      \n",
            "                                                                                                  \n",
            " expanded_conv_depthwise_BN (Ba  (None, 80, 80, 32)  128         ['expanded_conv_depthwise[0][0]']\n",
            " tchNormalization)                                                                                \n",
            "                                                                                                  \n",
            " expanded_conv_depthwise_relu (  (None, 80, 80, 32)  0           ['expanded_conv_depthwise_BN[0][0\n",
            " ReLU)                                                           ]']                              \n",
            "                                                                                                  \n",
            " expanded_conv_project (Conv2D)  (None, 80, 80, 16)  512         ['expanded_conv_depthwise_relu[0]\n",
            "                                                                 [0]']                            \n",
            "                                                                                                  \n",
            " expanded_conv_project_BN (Batc  (None, 80, 80, 16)  64          ['expanded_conv_project[0][0]']  \n",
            " hNormalization)                                                                                  \n",
            "                                                                                                  \n",
            " block_1_expand (Conv2D)        (None, 80, 80, 96)   1536        ['expanded_conv_project_BN[0][0]'\n",
            "                                                                 ]                                \n",
            "                                                                                                  \n",
            " block_1_expand_BN (BatchNormal  (None, 80, 80, 96)  384         ['block_1_expand[0][0]']         \n",
            " ization)                                                                                         \n",
            "                                                                                                  \n",
            " block_1_expand_relu (ReLU)     (None, 80, 80, 96)   0           ['block_1_expand_BN[0][0]']      \n",
            "                                                                                                  \n",
            " block_1_pad (ZeroPadding2D)    (None, 81, 81, 96)   0           ['block_1_expand_relu[0][0]']    \n",
            "                                                                                                  \n",
            " block_1_depthwise (DepthwiseCo  (None, 40, 40, 96)  864         ['block_1_pad[0][0]']            \n",
            " nv2D)                                                                                            \n",
            "                                                                                                  \n",
            " block_1_depthwise_BN (BatchNor  (None, 40, 40, 96)  384         ['block_1_depthwise[0][0]']      \n",
            " malization)                                                                                      \n",
            "                                                                                                  \n",
            " block_1_depthwise_relu (ReLU)  (None, 40, 40, 96)   0           ['block_1_depthwise_BN[0][0]']   \n",
            "                                                                                                  \n",
            " block_1_project (Conv2D)       (None, 40, 40, 24)   2304        ['block_1_depthwise_relu[0][0]'] \n",
            "                                                                                                  \n",
            " block_1_project_BN (BatchNorma  (None, 40, 40, 24)  96          ['block_1_project[0][0]']        \n",
            " lization)                                                                                        \n",
            "                                                                                                  \n",
            " block_2_expand (Conv2D)        (None, 40, 40, 144)  3456        ['block_1_project_BN[0][0]']     \n",
            "                                                                                                  \n",
            " block_2_expand_BN (BatchNormal  (None, 40, 40, 144)  576        ['block_2_expand[0][0]']         \n",
            " ization)                                                                                         \n",
            "                                                                                                  \n",
            " block_2_expand_relu (ReLU)     (None, 40, 40, 144)  0           ['block_2_expand_BN[0][0]']      \n",
            "                                                                                                  \n",
            " block_2_depthwise (DepthwiseCo  (None, 40, 40, 144)  1296       ['block_2_expand_relu[0][0]']    \n",
            " nv2D)                                                                                            \n",
            "                                                                                                  \n",
            " block_2_depthwise_BN (BatchNor  (None, 40, 40, 144)  576        ['block_2_depthwise[0][0]']      \n",
            " malization)                                                                                      \n",
            "                                                                                                  \n",
            " block_2_depthwise_relu (ReLU)  (None, 40, 40, 144)  0           ['block_2_depthwise_BN[0][0]']   \n",
            "                                                                                                  \n",
            " block_2_project (Conv2D)       (None, 40, 40, 24)   3456        ['block_2_depthwise_relu[0][0]'] \n",
            "                                                                                                  \n",
            " block_2_project_BN (BatchNorma  (None, 40, 40, 24)  96          ['block_2_project[0][0]']        \n",
            " lization)                                                                                        \n",
            "                                                                                                  \n",
            " block_2_add (Add)              (None, 40, 40, 24)   0           ['block_1_project_BN[0][0]',     \n",
            "                                                                  'block_2_project_BN[0][0]']     \n",
            "                                                                                                  \n",
            " block_3_expand (Conv2D)        (None, 40, 40, 144)  3456        ['block_2_add[0][0]']            \n",
            "                                                                                                  \n",
            " block_3_expand_BN (BatchNormal  (None, 40, 40, 144)  576        ['block_3_expand[0][0]']         \n",
            " ization)                                                                                         \n",
            "                                                                                                  \n",
            " block_3_expand_relu (ReLU)     (None, 40, 40, 144)  0           ['block_3_expand_BN[0][0]']      \n",
            "                                                                                                  \n",
            " block_3_pad (ZeroPadding2D)    (None, 41, 41, 144)  0           ['block_3_expand_relu[0][0]']    \n",
            "                                                                                                  \n",
            " block_3_depthwise (DepthwiseCo  (None, 20, 20, 144)  1296       ['block_3_pad[0][0]']            \n",
            " nv2D)                                                                                            \n",
            "                                                                                                  \n",
            " block_3_depthwise_BN (BatchNor  (None, 20, 20, 144)  576        ['block_3_depthwise[0][0]']      \n",
            " malization)                                                                                      \n",
            "                                                                                                  \n",
            " block_3_depthwise_relu (ReLU)  (None, 20, 20, 144)  0           ['block_3_depthwise_BN[0][0]']   \n",
            "                                                                                                  \n",
            " block_3_project (Conv2D)       (None, 20, 20, 32)   4608        ['block_3_depthwise_relu[0][0]'] \n",
            "                                                                                                  \n",
            " block_3_project_BN (BatchNorma  (None, 20, 20, 32)  128         ['block_3_project[0][0]']        \n",
            " lization)                                                                                        \n",
            "                                                                                                  \n",
            " block_4_expand (Conv2D)        (None, 20, 20, 192)  6144        ['block_3_project_BN[0][0]']     \n",
            "                                                                                                  \n",
            " block_4_expand_BN (BatchNormal  (None, 20, 20, 192)  768        ['block_4_expand[0][0]']         \n",
            " ization)                                                                                         \n",
            "                                                                                                  \n",
            " block_4_expand_relu (ReLU)     (None, 20, 20, 192)  0           ['block_4_expand_BN[0][0]']      \n",
            "                                                                                                  \n",
            " block_4_depthwise (DepthwiseCo  (None, 20, 20, 192)  1728       ['block_4_expand_relu[0][0]']    \n",
            " nv2D)                                                                                            \n",
            "                                                                                                  \n",
            " block_4_depthwise_BN (BatchNor  (None, 20, 20, 192)  768        ['block_4_depthwise[0][0]']      \n",
            " malization)                                                                                      \n",
            "                                                                                                  \n",
            " block_4_depthwise_relu (ReLU)  (None, 20, 20, 192)  0           ['block_4_depthwise_BN[0][0]']   \n",
            "                                                                                                  \n",
            " block_4_project (Conv2D)       (None, 20, 20, 32)   6144        ['block_4_depthwise_relu[0][0]'] \n",
            "                                                                                                  \n",
            " block_4_project_BN (BatchNorma  (None, 20, 20, 32)  128         ['block_4_project[0][0]']        \n",
            " lization)                                                                                        \n",
            "                                                                                                  \n",
            " block_4_add (Add)              (None, 20, 20, 32)   0           ['block_3_project_BN[0][0]',     \n",
            "                                                                  'block_4_project_BN[0][0]']     \n",
            "                                                                                                  \n",
            " block_5_expand (Conv2D)        (None, 20, 20, 192)  6144        ['block_4_add[0][0]']            \n",
            "                                                                                                  \n",
            " block_5_expand_BN (BatchNormal  (None, 20, 20, 192)  768        ['block_5_expand[0][0]']         \n",
            " ization)                                                                                         \n",
            "                                                                                                  \n",
            " block_5_expand_relu (ReLU)     (None, 20, 20, 192)  0           ['block_5_expand_BN[0][0]']      \n",
            "                                                                                                  \n",
            " block_5_depthwise (DepthwiseCo  (None, 20, 20, 192)  1728       ['block_5_expand_relu[0][0]']    \n",
            " nv2D)                                                                                            \n",
            "                                                                                                  \n",
            " block_5_depthwise_BN (BatchNor  (None, 20, 20, 192)  768        ['block_5_depthwise[0][0]']      \n",
            " malization)                                                                                      \n",
            "                                                                                                  \n",
            " block_5_depthwise_relu (ReLU)  (None, 20, 20, 192)  0           ['block_5_depthwise_BN[0][0]']   \n",
            "                                                                                                  \n",
            " block_5_project (Conv2D)       (None, 20, 20, 32)   6144        ['block_5_depthwise_relu[0][0]'] \n",
            "                                                                                                  \n",
            " block_5_project_BN (BatchNorma  (None, 20, 20, 32)  128         ['block_5_project[0][0]']        \n",
            " lization)                                                                                        \n",
            "                                                                                                  \n",
            " block_5_add (Add)              (None, 20, 20, 32)   0           ['block_4_add[0][0]',            \n",
            "                                                                  'block_5_project_BN[0][0]']     \n",
            "                                                                                                  \n",
            " block_6_expand (Conv2D)        (None, 20, 20, 192)  6144        ['block_5_add[0][0]']            \n",
            "                                                                                                  \n",
            " block_6_expand_BN (BatchNormal  (None, 20, 20, 192)  768        ['block_6_expand[0][0]']         \n",
            " ization)                                                                                         \n",
            "                                                                                                  \n",
            " block_6_expand_relu (ReLU)     (None, 20, 20, 192)  0           ['block_6_expand_BN[0][0]']      \n",
            "                                                                                                  \n",
            " block_6_pad (ZeroPadding2D)    (None, 21, 21, 192)  0           ['block_6_expand_relu[0][0]']    \n",
            "                                                                                                  \n",
            " block_6_depthwise (DepthwiseCo  (None, 10, 10, 192)  1728       ['block_6_pad[0][0]']            \n",
            " nv2D)                                                                                            \n",
            "                                                                                                  \n",
            " block_6_depthwise_BN (BatchNor  (None, 10, 10, 192)  768        ['block_6_depthwise[0][0]']      \n",
            " malization)                                                                                      \n",
            "                                                                                                  \n",
            " block_6_depthwise_relu (ReLU)  (None, 10, 10, 192)  0           ['block_6_depthwise_BN[0][0]']   \n",
            "                                                                                                  \n",
            " block_6_project (Conv2D)       (None, 10, 10, 64)   12288       ['block_6_depthwise_relu[0][0]'] \n",
            "                                                                                                  \n",
            " block_6_project_BN (BatchNorma  (None, 10, 10, 64)  256         ['block_6_project[0][0]']        \n",
            " lization)                                                                                        \n",
            "                                                                                                  \n",
            " block_7_expand (Conv2D)        (None, 10, 10, 384)  24576       ['block_6_project_BN[0][0]']     \n",
            "                                                                                                  \n",
            " block_7_expand_BN (BatchNormal  (None, 10, 10, 384)  1536       ['block_7_expand[0][0]']         \n",
            " ization)                                                                                         \n",
            "                                                                                                  \n",
            " block_7_expand_relu (ReLU)     (None, 10, 10, 384)  0           ['block_7_expand_BN[0][0]']      \n",
            "                                                                                                  \n",
            " block_7_depthwise (DepthwiseCo  (None, 10, 10, 384)  3456       ['block_7_expand_relu[0][0]']    \n",
            " nv2D)                                                                                            \n",
            "                                                                                                  \n",
            " block_7_depthwise_BN (BatchNor  (None, 10, 10, 384)  1536       ['block_7_depthwise[0][0]']      \n",
            " malization)                                                                                      \n",
            "                                                                                                  \n",
            " block_7_depthwise_relu (ReLU)  (None, 10, 10, 384)  0           ['block_7_depthwise_BN[0][0]']   \n",
            "                                                                                                  \n",
            " block_7_project (Conv2D)       (None, 10, 10, 64)   24576       ['block_7_depthwise_relu[0][0]'] \n",
            "                                                                                                  \n",
            " block_7_project_BN (BatchNorma  (None, 10, 10, 64)  256         ['block_7_project[0][0]']        \n",
            " lization)                                                                                        \n",
            "                                                                                                  \n",
            " block_7_add (Add)              (None, 10, 10, 64)   0           ['block_6_project_BN[0][0]',     \n",
            "                                                                  'block_7_project_BN[0][0]']     \n",
            "                                                                                                  \n",
            " block_8_expand (Conv2D)        (None, 10, 10, 384)  24576       ['block_7_add[0][0]']            \n",
            "                                                                                                  \n",
            " block_8_expand_BN (BatchNormal  (None, 10, 10, 384)  1536       ['block_8_expand[0][0]']         \n",
            " ization)                                                                                         \n",
            "                                                                                                  \n",
            " block_8_expand_relu (ReLU)     (None, 10, 10, 384)  0           ['block_8_expand_BN[0][0]']      \n",
            "                                                                                                  \n",
            " block_8_depthwise (DepthwiseCo  (None, 10, 10, 384)  3456       ['block_8_expand_relu[0][0]']    \n",
            " nv2D)                                                                                            \n",
            "                                                                                                  \n",
            " block_8_depthwise_BN (BatchNor  (None, 10, 10, 384)  1536       ['block_8_depthwise[0][0]']      \n",
            " malization)                                                                                      \n",
            "                                                                                                  \n",
            " block_8_depthwise_relu (ReLU)  (None, 10, 10, 384)  0           ['block_8_depthwise_BN[0][0]']   \n",
            "                                                                                                  \n",
            " block_8_project (Conv2D)       (None, 10, 10, 64)   24576       ['block_8_depthwise_relu[0][0]'] \n",
            "                                                                                                  \n",
            " block_8_project_BN (BatchNorma  (None, 10, 10, 64)  256         ['block_8_project[0][0]']        \n",
            " lization)                                                                                        \n",
            "                                                                                                  \n",
            " block_8_add (Add)              (None, 10, 10, 64)   0           ['block_7_add[0][0]',            \n",
            "                                                                  'block_8_project_BN[0][0]']     \n",
            "                                                                                                  \n",
            " block_9_expand (Conv2D)        (None, 10, 10, 384)  24576       ['block_8_add[0][0]']            \n",
            "                                                                                                  \n",
            " block_9_expand_BN (BatchNormal  (None, 10, 10, 384)  1536       ['block_9_expand[0][0]']         \n",
            " ization)                                                                                         \n",
            "                                                                                                  \n",
            " block_9_expand_relu (ReLU)     (None, 10, 10, 384)  0           ['block_9_expand_BN[0][0]']      \n",
            "                                                                                                  \n",
            " block_9_depthwise (DepthwiseCo  (None, 10, 10, 384)  3456       ['block_9_expand_relu[0][0]']    \n",
            " nv2D)                                                                                            \n",
            "                                                                                                  \n",
            " block_9_depthwise_BN (BatchNor  (None, 10, 10, 384)  1536       ['block_9_depthwise[0][0]']      \n",
            " malization)                                                                                      \n",
            "                                                                                                  \n",
            " block_9_depthwise_relu (ReLU)  (None, 10, 10, 384)  0           ['block_9_depthwise_BN[0][0]']   \n",
            "                                                                                                  \n",
            " block_9_project (Conv2D)       (None, 10, 10, 64)   24576       ['block_9_depthwise_relu[0][0]'] \n",
            "                                                                                                  \n",
            " block_9_project_BN (BatchNorma  (None, 10, 10, 64)  256         ['block_9_project[0][0]']        \n",
            " lization)                                                                                        \n",
            "                                                                                                  \n",
            " block_9_add (Add)              (None, 10, 10, 64)   0           ['block_8_add[0][0]',            \n",
            "                                                                  'block_9_project_BN[0][0]']     \n",
            "                                                                                                  \n",
            " block_10_expand (Conv2D)       (None, 10, 10, 384)  24576       ['block_9_add[0][0]']            \n",
            "                                                                                                  \n",
            " block_10_expand_BN (BatchNorma  (None, 10, 10, 384)  1536       ['block_10_expand[0][0]']        \n",
            " lization)                                                                                        \n",
            "                                                                                                  \n",
            " block_10_expand_relu (ReLU)    (None, 10, 10, 384)  0           ['block_10_expand_BN[0][0]']     \n",
            "                                                                                                  \n",
            " block_10_depthwise (DepthwiseC  (None, 10, 10, 384)  3456       ['block_10_expand_relu[0][0]']   \n",
            " onv2D)                                                                                           \n",
            "                                                                                                  \n",
            " block_10_depthwise_BN (BatchNo  (None, 10, 10, 384)  1536       ['block_10_depthwise[0][0]']     \n",
            " rmalization)                                                                                     \n",
            "                                                                                                  \n",
            " block_10_depthwise_relu (ReLU)  (None, 10, 10, 384)  0          ['block_10_depthwise_BN[0][0]']  \n",
            "                                                                                                  \n",
            " block_10_project (Conv2D)      (None, 10, 10, 96)   36864       ['block_10_depthwise_relu[0][0]']\n",
            "                                                                                                  \n",
            " block_10_project_BN (BatchNorm  (None, 10, 10, 96)  384         ['block_10_project[0][0]']       \n",
            " alization)                                                                                       \n",
            "                                                                                                  \n",
            " block_11_expand (Conv2D)       (None, 10, 10, 576)  55296       ['block_10_project_BN[0][0]']    \n",
            "                                                                                                  \n",
            " block_11_expand_BN (BatchNorma  (None, 10, 10, 576)  2304       ['block_11_expand[0][0]']        \n",
            " lization)                                                                                        \n",
            "                                                                                                  \n",
            " block_11_expand_relu (ReLU)    (None, 10, 10, 576)  0           ['block_11_expand_BN[0][0]']     \n",
            "                                                                                                  \n",
            " block_11_depthwise (DepthwiseC  (None, 10, 10, 576)  5184       ['block_11_expand_relu[0][0]']   \n",
            " onv2D)                                                                                           \n",
            "                                                                                                  \n",
            " block_11_depthwise_BN (BatchNo  (None, 10, 10, 576)  2304       ['block_11_depthwise[0][0]']     \n",
            " rmalization)                                                                                     \n",
            "                                                                                                  \n",
            " block_11_depthwise_relu (ReLU)  (None, 10, 10, 576)  0          ['block_11_depthwise_BN[0][0]']  \n",
            "                                                                                                  \n",
            " block_11_project (Conv2D)      (None, 10, 10, 96)   55296       ['block_11_depthwise_relu[0][0]']\n",
            "                                                                                                  \n",
            " block_11_project_BN (BatchNorm  (None, 10, 10, 96)  384         ['block_11_project[0][0]']       \n",
            " alization)                                                                                       \n",
            "                                                                                                  \n",
            " block_11_add (Add)             (None, 10, 10, 96)   0           ['block_10_project_BN[0][0]',    \n",
            "                                                                  'block_11_project_BN[0][0]']    \n",
            "                                                                                                  \n",
            " block_12_expand (Conv2D)       (None, 10, 10, 576)  55296       ['block_11_add[0][0]']           \n",
            "                                                                                                  \n",
            " block_12_expand_BN (BatchNorma  (None, 10, 10, 576)  2304       ['block_12_expand[0][0]']        \n",
            " lization)                                                                                        \n",
            "                                                                                                  \n",
            " block_12_expand_relu (ReLU)    (None, 10, 10, 576)  0           ['block_12_expand_BN[0][0]']     \n",
            "                                                                                                  \n",
            " block_12_depthwise (DepthwiseC  (None, 10, 10, 576)  5184       ['block_12_expand_relu[0][0]']   \n",
            " onv2D)                                                                                           \n",
            "                                                                                                  \n",
            " block_12_depthwise_BN (BatchNo  (None, 10, 10, 576)  2304       ['block_12_depthwise[0][0]']     \n",
            " rmalization)                                                                                     \n",
            "                                                                                                  \n",
            " block_12_depthwise_relu (ReLU)  (None, 10, 10, 576)  0          ['block_12_depthwise_BN[0][0]']  \n",
            "                                                                                                  \n",
            " block_12_project (Conv2D)      (None, 10, 10, 96)   55296       ['block_12_depthwise_relu[0][0]']\n",
            "                                                                                                  \n",
            " block_12_project_BN (BatchNorm  (None, 10, 10, 96)  384         ['block_12_project[0][0]']       \n",
            " alization)                                                                                       \n",
            "                                                                                                  \n",
            " block_12_add (Add)             (None, 10, 10, 96)   0           ['block_11_add[0][0]',           \n",
            "                                                                  'block_12_project_BN[0][0]']    \n",
            "                                                                                                  \n",
            " block_13_expand (Conv2D)       (None, 10, 10, 576)  55296       ['block_12_add[0][0]']           \n",
            "                                                                                                  \n",
            " block_13_expand_BN (BatchNorma  (None, 10, 10, 576)  2304       ['block_13_expand[0][0]']        \n",
            " lization)                                                                                        \n",
            "                                                                                                  \n",
            " block_13_expand_relu (ReLU)    (None, 10, 10, 576)  0           ['block_13_expand_BN[0][0]']     \n",
            "                                                                                                  \n",
            " block_13_pad (ZeroPadding2D)   (None, 11, 11, 576)  0           ['block_13_expand_relu[0][0]']   \n",
            "                                                                                                  \n",
            " block_13_depthwise (DepthwiseC  (None, 5, 5, 576)   5184        ['block_13_pad[0][0]']           \n",
            " onv2D)                                                                                           \n",
            "                                                                                                  \n",
            " block_13_depthwise_BN (BatchNo  (None, 5, 5, 576)   2304        ['block_13_depthwise[0][0]']     \n",
            " rmalization)                                                                                     \n",
            "                                                                                                  \n",
            " block_13_depthwise_relu (ReLU)  (None, 5, 5, 576)   0           ['block_13_depthwise_BN[0][0]']  \n",
            "                                                                                                  \n",
            " block_13_project (Conv2D)      (None, 5, 5, 160)    92160       ['block_13_depthwise_relu[0][0]']\n",
            "                                                                                                  \n",
            " block_13_project_BN (BatchNorm  (None, 5, 5, 160)   640         ['block_13_project[0][0]']       \n",
            " alization)                                                                                       \n",
            "                                                                                                  \n",
            " block_14_expand (Conv2D)       (None, 5, 5, 960)    153600      ['block_13_project_BN[0][0]']    \n",
            "                                                                                                  \n",
            " block_14_expand_BN (BatchNorma  (None, 5, 5, 960)   3840        ['block_14_expand[0][0]']        \n",
            " lization)                                                                                        \n",
            "                                                                                                  \n",
            " block_14_expand_relu (ReLU)    (None, 5, 5, 960)    0           ['block_14_expand_BN[0][0]']     \n",
            "                                                                                                  \n",
            " block_14_depthwise (DepthwiseC  (None, 5, 5, 960)   8640        ['block_14_expand_relu[0][0]']   \n",
            " onv2D)                                                                                           \n",
            "                                                                                                  \n",
            " block_14_depthwise_BN (BatchNo  (None, 5, 5, 960)   3840        ['block_14_depthwise[0][0]']     \n",
            " rmalization)                                                                                     \n",
            "                                                                                                  \n",
            " block_14_depthwise_relu (ReLU)  (None, 5, 5, 960)   0           ['block_14_depthwise_BN[0][0]']  \n",
            "                                                                                                  \n",
            " block_14_project (Conv2D)      (None, 5, 5, 160)    153600      ['block_14_depthwise_relu[0][0]']\n",
            "                                                                                                  \n",
            " block_14_project_BN (BatchNorm  (None, 5, 5, 160)   640         ['block_14_project[0][0]']       \n",
            " alization)                                                                                       \n",
            "                                                                                                  \n",
            " block_14_add (Add)             (None, 5, 5, 160)    0           ['block_13_project_BN[0][0]',    \n",
            "                                                                  'block_14_project_BN[0][0]']    \n",
            "                                                                                                  \n",
            " block_15_expand (Conv2D)       (None, 5, 5, 960)    153600      ['block_14_add[0][0]']           \n",
            "                                                                                                  \n",
            " block_15_expand_BN (BatchNorma  (None, 5, 5, 960)   3840        ['block_15_expand[0][0]']        \n",
            " lization)                                                                                        \n",
            "                                                                                                  \n",
            " block_15_expand_relu (ReLU)    (None, 5, 5, 960)    0           ['block_15_expand_BN[0][0]']     \n",
            "                                                                                                  \n",
            " block_15_depthwise (DepthwiseC  (None, 5, 5, 960)   8640        ['block_15_expand_relu[0][0]']   \n",
            " onv2D)                                                                                           \n",
            "                                                                                                  \n",
            " block_15_depthwise_BN (BatchNo  (None, 5, 5, 960)   3840        ['block_15_depthwise[0][0]']     \n",
            " rmalization)                                                                                     \n",
            "                                                                                                  \n",
            " block_15_depthwise_relu (ReLU)  (None, 5, 5, 960)   0           ['block_15_depthwise_BN[0][0]']  \n",
            "                                                                                                  \n",
            " block_15_project (Conv2D)      (None, 5, 5, 160)    153600      ['block_15_depthwise_relu[0][0]']\n",
            "                                                                                                  \n",
            " block_15_project_BN (BatchNorm  (None, 5, 5, 160)   640         ['block_15_project[0][0]']       \n",
            " alization)                                                                                       \n",
            "                                                                                                  \n",
            " block_15_add (Add)             (None, 5, 5, 160)    0           ['block_14_add[0][0]',           \n",
            "                                                                  'block_15_project_BN[0][0]']    \n",
            "                                                                                                  \n",
            " block_16_expand (Conv2D)       (None, 5, 5, 960)    153600      ['block_15_add[0][0]']           \n",
            "                                                                                                  \n",
            " block_16_expand_BN (BatchNorma  (None, 5, 5, 960)   3840        ['block_16_expand[0][0]']        \n",
            " lization)                                                                                        \n",
            "                                                                                                  \n",
            " block_16_expand_relu (ReLU)    (None, 5, 5, 960)    0           ['block_16_expand_BN[0][0]']     \n",
            "                                                                                                  \n",
            " block_16_depthwise (DepthwiseC  (None, 5, 5, 960)   8640        ['block_16_expand_relu[0][0]']   \n",
            " onv2D)                                                                                           \n",
            "                                                                                                  \n",
            " block_16_depthwise_BN (BatchNo  (None, 5, 5, 960)   3840        ['block_16_depthwise[0][0]']     \n",
            " rmalization)                                                                                     \n",
            "                                                                                                  \n",
            " block_16_depthwise_relu (ReLU)  (None, 5, 5, 960)   0           ['block_16_depthwise_BN[0][0]']  \n",
            "                                                                                                  \n",
            " block_16_project (Conv2D)      (None, 5, 5, 320)    307200      ['block_16_depthwise_relu[0][0]']\n",
            "                                                                                                  \n",
            " block_16_project_BN (BatchNorm  (None, 5, 5, 320)   1280        ['block_16_project[0][0]']       \n",
            " alization)                                                                                       \n",
            "                                                                                                  \n",
            " Conv_1 (Conv2D)                (None, 5, 5, 1280)   409600      ['block_16_project_BN[0][0]']    \n",
            "                                                                                                  \n",
            " Conv_1_bn (BatchNormalization)  (None, 5, 5, 1280)  5120        ['Conv_1[0][0]']                 \n",
            "                                                                                                  \n",
            " out_relu (ReLU)                (None, 5, 5, 1280)   0           ['Conv_1_bn[0][0]']              \n",
            "                                                                                                  \n",
            "==================================================================================================\n",
            "Total params: 2,257,984\n",
            "Trainable params: 2,223,872\n",
            "Non-trainable params: 34,112\n",
            "__________________________________________________________________________________________________\n"
          ]
        }
      ]
    },
    {
      "cell_type": "code",
      "source": [
        "# We create pooling layer\n",
        "sortie_conv =  tf.keras.Sequential()\n",
        "sortie_conv.add(tf.keras.layers.GlobalAveragePooling2D())\n",
        "sortie_conv.add(Dense(64, activation='relu'))\n",
        "sortie_conv.add(Dropout(0.3))\n",
        "sortie_conv.add(Dense(4, activation='softmax')) # four categories"
      ],
      "metadata": {
        "id": "jmljVMaqeUGd"
      },
      "execution_count": 81,
      "outputs": []
    },
    {
      "cell_type": "code",
      "source": [
        "# We freeze the layers of the base-model\n",
        "base_model.trainable = False"
      ],
      "metadata": {
        "id": "0_yQn0_PeUJR"
      },
      "execution_count": 82,
      "outputs": []
    },
    {
      "cell_type": "code",
      "source": [
        "# We combine all that\n",
        "model2 = tf.keras.Sequential([\n",
        "  base_model,\n",
        "  sortie_conv,\n",
        "  \n",
        "])"
      ],
      "metadata": {
        "id": "vj1h9v6WeULu"
      },
      "execution_count": 83,
      "outputs": []
    },
    {
      "cell_type": "code",
      "source": [
        "model2.compile(optimizer=tf.keras.optimizers.Adam(learning_rate=1e-4),\n",
        "              loss='sparse_categorical_crossentropy',\n",
        "              metrics=['accuracy'])"
      ],
      "metadata": {
        "id": "uB-bHT9FeUPZ"
      },
      "execution_count": 84,
      "outputs": []
    },
    {
      "cell_type": "code",
      "source": [
        "model2.summary()"
      ],
      "metadata": {
        "colab": {
          "base_uri": "https://localhost:8080/"
        },
        "id": "gY5exZDxeURn",
        "outputId": "263f8de3-52a1-41ee-d4bd-2bbfcba4ed21"
      },
      "execution_count": 85,
      "outputs": [
        {
          "output_type": "stream",
          "name": "stdout",
          "text": [
            "Model: \"sequential_13\"\n",
            "_________________________________________________________________\n",
            " Layer (type)                Output Shape              Param #   \n",
            "=================================================================\n",
            " mobilenetv2_1.00_160 (Funct  (None, 5, 5, 1280)       2257984   \n",
            " ional)                                                          \n",
            "                                                                 \n",
            " sequential_12 (Sequential)  (None, 4)                 82244     \n",
            "                                                                 \n",
            "=================================================================\n",
            "Total params: 2,340,228\n",
            "Trainable params: 82,244\n",
            "Non-trainable params: 2,257,984\n",
            "_________________________________________________________________\n"
          ]
        }
      ]
    },
    {
      "cell_type": "code",
      "source": [
        "history = model2.fit(X_train, y_train, epochs=20, \n",
        "                    validation_data=(X_test, y_test))"
      ],
      "metadata": {
        "colab": {
          "base_uri": "https://localhost:8080/"
        },
        "id": "klfDbkPHeUUa",
        "outputId": "aeda3b26-a1c1-4f1b-d76b-cc67a3574d69"
      },
      "execution_count": 86,
      "outputs": [
        {
          "output_type": "stream",
          "name": "stdout",
          "text": [
            "Epoch 1/20\n",
            "28/28 [==============================] - 8s 101ms/step - loss: 1.4289 - accuracy: 0.3605 - val_loss: 1.0319 - val_accuracy: 0.5714\n",
            "Epoch 2/20\n",
            "28/28 [==============================] - 2s 75ms/step - loss: 0.9718 - accuracy: 0.6116 - val_loss: 0.7291 - val_accuracy: 0.7768\n",
            "Epoch 3/20\n",
            "28/28 [==============================] - 2s 65ms/step - loss: 0.7274 - accuracy: 0.7411 - val_loss: 0.5730 - val_accuracy: 0.8393\n",
            "Epoch 4/20\n",
            "28/28 [==============================] - 2s 63ms/step - loss: 0.6046 - accuracy: 0.7879 - val_loss: 0.4709 - val_accuracy: 0.8304\n",
            "Epoch 5/20\n",
            "28/28 [==============================] - 2s 63ms/step - loss: 0.5045 - accuracy: 0.8315 - val_loss: 0.3997 - val_accuracy: 0.8750\n",
            "Epoch 6/20\n",
            "28/28 [==============================] - 2s 63ms/step - loss: 0.4763 - accuracy: 0.8315 - val_loss: 0.3621 - val_accuracy: 0.8750\n",
            "Epoch 7/20\n",
            "28/28 [==============================] - 2s 64ms/step - loss: 0.4429 - accuracy: 0.8438 - val_loss: 0.3291 - val_accuracy: 0.8973\n",
            "Epoch 8/20\n",
            "28/28 [==============================] - 2s 63ms/step - loss: 0.3577 - accuracy: 0.8839 - val_loss: 0.3044 - val_accuracy: 0.9062\n",
            "Epoch 9/20\n",
            "28/28 [==============================] - 2s 62ms/step - loss: 0.3513 - accuracy: 0.8862 - val_loss: 0.2859 - val_accuracy: 0.9107\n",
            "Epoch 10/20\n",
            "28/28 [==============================] - 2s 64ms/step - loss: 0.3343 - accuracy: 0.8828 - val_loss: 0.2690 - val_accuracy: 0.9152\n",
            "Epoch 11/20\n",
            "28/28 [==============================] - 2s 63ms/step - loss: 0.2943 - accuracy: 0.9107 - val_loss: 0.2537 - val_accuracy: 0.9152\n",
            "Epoch 12/20\n",
            "28/28 [==============================] - 2s 64ms/step - loss: 0.2867 - accuracy: 0.8929 - val_loss: 0.2454 - val_accuracy: 0.9152\n",
            "Epoch 13/20\n",
            "28/28 [==============================] - 2s 76ms/step - loss: 0.2595 - accuracy: 0.9152 - val_loss: 0.2378 - val_accuracy: 0.9152\n",
            "Epoch 14/20\n",
            "28/28 [==============================] - 2s 64ms/step - loss: 0.2754 - accuracy: 0.9007 - val_loss: 0.2312 - val_accuracy: 0.9196\n",
            "Epoch 15/20\n",
            "28/28 [==============================] - 2s 64ms/step - loss: 0.2396 - accuracy: 0.9174 - val_loss: 0.2188 - val_accuracy: 0.9196\n",
            "Epoch 16/20\n",
            "28/28 [==============================] - 2s 64ms/step - loss: 0.2249 - accuracy: 0.9241 - val_loss: 0.2113 - val_accuracy: 0.9196\n",
            "Epoch 17/20\n",
            "28/28 [==============================] - 2s 64ms/step - loss: 0.2083 - accuracy: 0.9353 - val_loss: 0.2073 - val_accuracy: 0.9196\n",
            "Epoch 18/20\n",
            "28/28 [==============================] - 2s 64ms/step - loss: 0.1974 - accuracy: 0.9475 - val_loss: 0.1982 - val_accuracy: 0.9196\n",
            "Epoch 19/20\n",
            "28/28 [==============================] - 2s 64ms/step - loss: 0.2100 - accuracy: 0.9275 - val_loss: 0.1960 - val_accuracy: 0.9196\n",
            "Epoch 20/20\n",
            "28/28 [==============================] - 2s 62ms/step - loss: 0.1774 - accuracy: 0.9587 - val_loss: 0.1907 - val_accuracy: 0.9196\n"
          ]
        }
      ]
    },
    {
      "cell_type": "markdown",
      "source": [
        "- val_accuracy: 0.9196"
      ],
      "metadata": {
        "id": "w4wNIYEQmUXq"
      }
    },
    {
      "cell_type": "code",
      "source": [
        "acc = history.history['accuracy']\n",
        "val_acc = history.history['val_accuracy']\n",
        "\n",
        "loss = history.history['loss']\n",
        "val_loss = history.history['val_loss']\n",
        "\n",
        "plt.figure(figsize=(8, 8))\n",
        "plt.subplot(2, 1, 1)\n",
        "plt.plot(acc, label='Training Accuracy')\n",
        "plt.plot(val_acc, label='Validation Accuracy')\n",
        "plt.legend(loc='lower right')\n",
        "plt.ylabel('Accuracy')\n",
        "plt.ylim([min(plt.ylim()),1])\n",
        "plt.title('Training and Validation Accuracy')\n",
        "\n",
        "plt.subplot(2, 1, 2)\n",
        "plt.plot(loss, label='Training Loss')\n",
        "plt.plot(val_loss, label='Validation Loss')\n",
        "plt.legend(loc='upper right')\n",
        "plt.ylabel('Cross Entropy')\n",
        "plt.ylim([0,1.0])\n",
        "plt.title('Training and Validation Loss')\n",
        "plt.xlabel('epoch')\n",
        "plt.show()"
      ],
      "metadata": {
        "colab": {
          "base_uri": "https://localhost:8080/",
          "height": 513
        },
        "id": "LZ3fj-uGegNH",
        "outputId": "99c2d7dd-d534-402b-c6f9-59d157f56d0d"
      },
      "execution_count": 87,
      "outputs": [
        {
          "output_type": "display_data",
          "data": {
            "image/png": "[encoded data removed]",
            "text/plain": [
              "<Figure size 576x576 with 2 Axes>"
            ]
          },
          "metadata": {
            "needs_background": "light"
          }
        }
      ]
    },
    {
      "cell_type": "markdown",
      "source": [
        "<h1> Let's see if we can do better with <b>Fine Tuning"
      ],
      "metadata": {
        "id": "3G75VmWMmxGo"
      }
    },
    {
      "cell_type": "code",
      "source": [
        "# We give the possibility to train the basic model of ImageNet\n",
        "base_model.trainable = True\n",
        "\n",
        "# But just the last 100 layers\n",
        "fine_tune_at = 100\n",
        "\n",
        "for layer in base_model.layers[:fine_tune_at]:\n",
        "  layer.trainable =  False"
      ],
      "metadata": {
        "id": "mEwmJiIEegQc"
      },
      "execution_count": 88,
      "outputs": []
    },
    {
      "cell_type": "code",
      "source": [
        "base_learning_rate = 1e-4\n",
        "model2.compile(optimizer=tf.keras.optimizers.Adam(learning_rate=base_learning_rate/1000000),\n",
        "              loss='sparse_categorical_crossentropy',\n",
        "              metrics=['accuracy'])\n"
      ],
      "metadata": {
        "id": "DubRSjItegSe"
      },
      "execution_count": 89,
      "outputs": []
    },
    {
      "cell_type": "code",
      "source": [
        "history_fine = model.fit( X_train,\n",
        "    y_train,\n",
        "    batch_size=128,\n",
        "    epochs=10,\n",
        "    validation_data=(X_test, y_test),)"
      ],
      "metadata": {
        "colab": {
          "base_uri": "https://localhost:8080/"
        },
        "id": "riibB5nAeUX6",
        "outputId": "489515a7-d6e6-418a-9bfa-af92c2d9efd0"
      },
      "execution_count": 90,
      "outputs": [
        {
          "output_type": "stream",
          "name": "stdout",
          "text": [
            "Epoch 1/10\n",
            "7/7 [==============================] - 5s 660ms/step - loss: 4.0173e-07 - accuracy: 1.0000 - val_loss: 0.3263 - val_accuracy: 0.9643\n",
            "Epoch 2/10\n",
            "7/7 [==============================] - 4s 651ms/step - loss: 5.7475e-05 - accuracy: 1.0000 - val_loss: 0.3225 - val_accuracy: 0.9643\n",
            "Epoch 3/10\n",
            "7/7 [==============================] - 4s 649ms/step - loss: 0.0096 - accuracy: 0.9978 - val_loss: 0.3345 - val_accuracy: 0.9598\n",
            "Epoch 4/10\n",
            "7/7 [==============================] - 5s 653ms/step - loss: 0.0055 - accuracy: 0.9989 - val_loss: 0.3341 - val_accuracy: 0.9554\n",
            "Epoch 5/10\n",
            "7/7 [==============================] - 4s 649ms/step - loss: 0.0054 - accuracy: 0.9978 - val_loss: 0.3340 - val_accuracy: 0.9643\n",
            "Epoch 6/10\n",
            "7/7 [==============================] - 4s 645ms/step - loss: 0.0030 - accuracy: 0.9989 - val_loss: 0.3453 - val_accuracy: 0.9598\n",
            "Epoch 7/10\n",
            "7/7 [==============================] - 4s 648ms/step - loss: 0.0292 - accuracy: 0.9989 - val_loss: 0.3413 - val_accuracy: 0.9598\n",
            "Epoch 8/10\n",
            "7/7 [==============================] - 4s 647ms/step - loss: 8.0500e-05 - accuracy: 1.0000 - val_loss: 0.3267 - val_accuracy: 0.9598\n",
            "Epoch 9/10\n",
            "7/7 [==============================] - 4s 646ms/step - loss: 2.3974e-05 - accuracy: 1.0000 - val_loss: 0.3209 - val_accuracy: 0.9643\n",
            "Epoch 10/10\n",
            "7/7 [==============================] - 4s 648ms/step - loss: 0.0078 - accuracy: 0.9989 - val_loss: 0.2859 - val_accuracy: 0.9732\n"
          ]
        }
      ]
    },
    {
      "cell_type": "markdown",
      "source": [
        "<h1>We managed to do a fine tuning and improve the precision of the model"
      ],
      "metadata": {
        "id": "nuBq90Z5tkcm"
      }
    }
  ]
}